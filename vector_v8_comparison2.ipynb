{
 "cells": [
  {
   "cell_type": "code",
   "execution_count": 1,
   "id": "e9be6a8a-0996-4fa1-9f9e-b74443caefd0",
   "metadata": {},
   "outputs": [],
   "source": [
    "class Vector:\n",
    "    def __init__(self, values):\n",
    "        self.values = values\n",
    "\n",
    "    def __repr__(self):\n",
    "        return f\"Vector({self.values})\""
   ]
  },
  {
   "cell_type": "code",
   "execution_count": 2,
   "id": "ebbb32f7-d0d0-47df-8697-fe0f94d1e635",
   "metadata": {},
   "outputs": [],
   "source": [
    "va = Vector([1, 2, 3])"
   ]
  },
  {
   "cell_type": "code",
   "execution_count": 3,
   "id": "020cab79-5959-4963-8b84-35f2fb0e557a",
   "metadata": {},
   "outputs": [],
   "source": [
    "vb = Vector(range(1, 4))"
   ]
  },
  {
   "cell_type": "code",
   "execution_count": 4,
   "id": "293cac4a-1474-4a33-9b27-f45f6534e5b6",
   "metadata": {},
   "outputs": [
    {
     "data": {
      "text/plain": [
       "False"
      ]
     },
     "execution_count": 4,
     "metadata": {},
     "output_type": "execute_result"
    }
   ],
   "source": [
    "va == vb"
   ]
  },
  {
   "cell_type": "code",
   "execution_count": 5,
   "id": "93eda2ac-b017-4e5b-bc71-6c2dde349832",
   "metadata": {},
   "outputs": [],
   "source": [
    "vc = Vector([1, 2])"
   ]
  }
 ],
 "metadata": {
  "kernelspec": {
   "display_name": "Python 3 (ipykernel)",
   "language": "python",
   "name": "python3"
  },
  "language_info": {
   "codemirror_mode": {
    "name": "ipython",
    "version": 3
   },
   "file_extension": ".py",
   "mimetype": "text/x-python",
   "name": "python",
   "nbconvert_exporter": "python",
   "pygments_lexer": "ipython3",
   "version": "3.12.3"
  }
 },
 "nbformat": 4,
 "nbformat_minor": 5
}
